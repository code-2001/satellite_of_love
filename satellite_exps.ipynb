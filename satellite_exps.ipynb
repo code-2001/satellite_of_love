{
 "cells": [
  {
   "cell_type": "code",
   "execution_count": 5,
   "metadata": {
    "collapsed": true
   },
   "outputs": [],
   "source": [
    "from etoe_unet import *"
   ]
  },
  {
   "cell_type": "code",
   "execution_count": 6,
   "metadata": {},
   "outputs": [
    {
     "name": "stdout",
     "output_type": "stream",
     "text": [
      "1/25 6010_1_2 shapes: (2519, 2555, 3) (2519, 2555, 10)\n"
     ]
    },
    {
     "name": "stdout",
     "output_type": "stream",
     "text": [
      "2/25 6010_4_2 shapes: (2516, 2555, 3) (2516, 2555, 10)\n"
     ]
    },
    {
     "name": "stdout",
     "output_type": "stream",
     "text": [
      "3/25 6010_4_4 shapes: (2516, 2552, 3) (2516, 2552, 10)\n"
     ]
    },
    {
     "name": "stdout",
     "output_type": "stream",
     "text": [
      "4/25 6040_1_0 shapes: (2519, 2551, 3) (2519, 2551, 10)\n"
     ]
    },
    {
     "name": "stdout",
     "output_type": "stream",
     "text": [
      "5/25 6040_1_3 shapes: (2519, 2551, 3) (2519, 2551, 10)\n"
     ]
    },
    {
     "name": "stdout",
     "output_type": "stream",
     "text": [
      "6/25 6040_2_2 shapes: (2519, 2551, 3) (2519, 2551, 10)\n"
     ]
    },
    {
     "name": "stdout",
     "output_type": "stream",
     "text": [
      "7/25 6040_4_4 shapes: (2517, 2548, 3) (2517, 2548, 10)\n"
     ]
    },
    {
     "name": "stdout",
     "output_type": "stream",
     "text": [
      "8/25 6060_2_3 shapes: (2519, 2560, 3) (2519, 2560, 10)\n"
     ]
    },
    {
     "name": "stdout",
     "output_type": "stream",
     "text": [
      "9/25 6070_2_3 shapes: (2520, 2511, 3) (2520, 2511, 10)\n"
     ]
    },
    {
     "name": "stdout",
     "output_type": "stream",
     "text": [
      "10/25 6090_2_0 shapes: (2519, 2552, 3) (2519, 2552, 10)\n"
     ]
    },
    {
     "name": "stdout",
     "output_type": "stream",
     "text": [
      "11/25 6100_1_3 shapes: (2519, 2551, 3) (2519, 2551, 10)\n"
     ]
    },
    {
     "name": "stdout",
     "output_type": "stream",
     "text": [
      "12/25 6100_2_2 shapes: (2519, 2551, 3) (2519, 2551, 10)\n"
     ]
    },
    {
     "name": "stdout",
     "output_type": "stream",
     "text": [
      "13/25 6100_2_3 shapes: (2519, 2551, 3) (2519, 2551, 10)\n"
     ]
    },
    {
     "name": "stdout",
     "output_type": "stream",
     "text": [
      "14/25 6110_1_2 shapes: (2519, 2555, 3) (2519, 2555, 10)\n"
     ]
    },
    {
     "name": "stdout",
     "output_type": "stream",
     "text": [
      "15/25 6110_3_1 shapes: (2519, 2555, 3) (2519, 2555, 10)\n"
     ]
    },
    {
     "name": "stdout",
     "output_type": "stream",
     "text": [
      "16/25 6110_4_0 shapes: (2519, 2555, 3) (2519, 2555, 10)\n"
     ]
    },
    {
     "name": "stdout",
     "output_type": "stream",
     "text": [
      "17/25 6120_2_0 shapes: (2519, 2560, 3) (2519, 2560, 10)\n"
     ]
    },
    {
     "name": "stdout",
     "output_type": "stream",
     "text": [
      "18/25 6120_2_2 shapes: (2519, 2560, 3) (2519, 2560, 10)\n"
     ]
    },
    {
     "name": "stdout",
     "output_type": "stream",
     "text": [
      "19/25 6140_1_2 shapes: (2519, 2555, 3) (2519, 2555, 10)\n"
     ]
    },
    {
     "name": "stdout",
     "output_type": "stream",
     "text": [
      "20/25 6140_3_1 shapes: (2519, 2555, 3) (2519, 2555, 10)\n"
     ]
    },
    {
     "name": "stdout",
     "output_type": "stream",
     "text": [
      "21/25 6150_2_3 shapes: (2519, 2560, 3) (2519, 2560, 10)\n"
     ]
    },
    {
     "name": "stdout",
     "output_type": "stream",
     "text": [
      "22/25 6160_2_1 shapes: (2519, 2552, 3) (2519, 2552, 10)\n"
     ]
    },
    {
     "name": "stdout",
     "output_type": "stream",
     "text": [
      "23/25 6170_0_4 shapes: (2519, 2549, 3) (2519, 2549, 10)\n"
     ]
    },
    {
     "name": "stdout",
     "output_type": "stream",
     "text": [
      "24/25 6170_2_4 shapes: (2519, 2549, 3) (2519, 2549, 10)\n"
     ]
    },
    {
     "name": "stdout",
     "output_type": "stream",
     "text": [
      "25/25 6170_4_1 shapes: (2516, 2552, 3) (2516, 2552, 10)\n2520 2560 5 (12600, 12800, 3)\n"
     ]
    },
    {
     "name": "stdout",
     "output_type": "stream",
     "text": [
      "2520 2560 5 (12600, 12800, 3)\n"
     ]
    },
    {
     "name": "stdout",
     "output_type": "stream",
     "text": [
      "2520 2560 5 (12600, 12800, 3)\n"
     ]
    }
   ],
   "source": [
    "image_db = etoe_unet.TrainingDB()\n",
    "image_db.build_training_db(IMAGE_SF,  sorted(DF.ImageId.unique()), N_Cls, subset_size=0)\n",
    "etoe_unet.build_and_display_thumbs_from_image_list(image_db.x)\n",
    "etoe_unet.build_and_display_thumbs_from_image_list([img[:, :, 0:3] for img in image_db.y])\n",
    "etoe_unet.build_and_display_thumbs_from_image_list([img[:, :, 3:6] for img in image_db.y])"
   ]
  },
  {
   "cell_type": "code",
   "execution_count": 7,
   "metadata": {},
   "outputs": [],
   "source": [
    "model = get_unet()\n",
    "model.load_weights(config.glb_base_dir + '/weights/model-17-0.02772.hdf5')"
   ]
  },
  {
   "cell_type": "code",
   "execution_count": 20,
   "metadata": {},
   "outputs": [
    {
     "name": "stdout",
     "output_type": "stream",
     "text": [
      "test image (2519, 2555, 3)\n"
     ]
    },
    {
     "name": "stdout",
     "output_type": "stream",
     "text": [
      "prob shape (10, 2519, 2555)\n"
     ]
    }
   ],
   "source": [
    "test_id_list = sorted(set(SB['ImageId'].tolist()))\n",
    "image_id = test_id_list[0]\n",
    "img_mat = image_source.get_image_from_id(image_id, IMAGE_SF)\n",
    "img_mat = image_source.stretch_n(img_mat)\n",
    "print('test image', img_mat.shape)\n",
    "img_prob = map_image_to_probability_matrix(img_mat, model)\n",
    "print('prob shape', img_prob.shape)"
   ]
  },
  {
   "cell_type": "code",
   "execution_count": 21,
   "metadata": {},
   "outputs": [
    {
     "name": "stdout",
     "output_type": "stream",
     "text": [
      "2.71033e-30 0.999996\n"
     ]
    }
   ],
   "source": [
    "print(np.min(img_prob), np.max(img_prob))"
   ]
  },
  {
   "cell_type": "code",
   "execution_count": 43,
   "metadata": {},
   "outputs": [],
   "source": [
    "from pylab import rcParams\n",
    "rcParams['figure.figsize'] = 11, 12"
   ]
  },
  {
   "cell_type": "code",
   "execution_count": 51,
   "metadata": {},
   "outputs": [],
   "source": [
    "# Give short names to object types\n",
    "CLASSES = {\n",
    "        0: 'Bldg',\n",
    "        1: 'Structure',\n",
    "        2: 'Road',\n",
    "        3: 'Track',\n",
    "        4: 'Trees',\n",
    "        5: 'Crops',\n",
    "        6: 'Fast H20',\n",
    "        7: 'Slow H20',\n",
    "        8: 'Truck',\n",
    "        9: 'Car',\n",
    "        }\n",
    "\n",
    "for i in range(10):\n",
    "    plt.imshow(img_prob[i, :, :], cmap='gray')  # other cmap: hot, pink, cool, bone, afmhot\n",
    "    plt.title(CLASSES[i])\n",
    "    plt.show()"
   ]
  },
  {
   "cell_type": "code",
   "execution_count": 50,
   "metadata": {},
   "outputs": [
    {
     "name": "stdout",
     "output_type": "stream",
     "text": [
      "test image (2519, 2555, 3)\n"
     ]
    },
    {
     "name": "stdout",
     "output_type": "stream",
     "text": [
      "prob shape (10, 2519, 2555)\n"
     ]
    }
   ],
   "source": [
    "train_id_list = sorted(DF.ImageId.unique())\n",
    "image_id = train_id_list[0]\n",
    "img_mat = image_source.get_image_from_id(image_id, IMAGE_SF)\n",
    "img_mat = image_source.stretch_n(img_mat)\n",
    "print('test image', img_mat.shape)\n",
    "img_prob = map_image_to_probability_matrix(img_mat, model)\n",
    "print('prob shape', img_prob.shape)"
   ]
  },
  {
   "cell_type": "markdown",
   "metadata": {},
   "source": [
    "Code for computing optimum thresholds for binarization using Jaccard."
   ]
  },
  {
   "cell_type": "code",
   "execution_count": 72,
   "metadata": {},
   "outputs": [
    {
     "name": "stdout",
     "output_type": "stream",
     "text": [
      "(2516, 2555, 10) (2516, 2555, 3)\n"
     ]
    },
    {
     "name": "stdout",
     "output_type": "stream",
     "text": [
      "(10, 2516, 2555)\n"
     ]
    }
   ],
   "source": [
    "train_index = 1  # 0 .. 24\n",
    "y_true = image_db.y[train_index]\n",
    "img_mat = image_db.x[train_index]\n",
    "print(y_true.shape, img_mat.shape)\n",
    "y_pred = map_image_to_probability_matrix(img_mat, model)\n",
    "print(y_pred.shape)"
   ]
  },
  {
   "cell_type": "code",
   "execution_count": 74,
   "metadata": {},
   "outputs": [
    {
     "name": "stdout",
     "output_type": "stream",
     "text": [
      "19 0 thresh 0.95 jacc 0.85413354531 best 0.95 0.85413354531\n"
     ]
    },
    {
     "name": "stdout",
     "output_type": "stream",
     "text": [
      "19 1 thresh 0.95 jacc 0.99960254372 best 0.95 0.99960254372\n"
     ]
    },
    {
     "name": "stdout",
     "output_type": "stream",
     "text": [
      "19 2 thresh 0.95 jacc 0.860492845787 best 0.95 0.860492845787\n"
     ]
    },
    {
     "name": "stdout",
     "output_type": "stream",
     "text": [
      "19 3 thresh 0.95 jacc 0.0 best 0.1 0.0399537940091\n"
     ]
    },
    {
     "name": "stdout",
     "output_type": "stream",
     "text": [
      "19 4 thresh 0.95 jacc 0.289349741355 best 0.45 0.630629247531\n"
     ]
    },
    {
     "name": "stdout",
     "output_type": "stream",
     "text": [
      "19 5 thresh 0.95 jacc 0.0242448330684 best 0.95 0.0242448330684\n"
     ]
    },
    {
     "name": "stdout",
     "output_type": "stream",
     "text": [
      "19 6 thresh 0.95 jacc 0.990858505564 best 0.95 0.990858505564\n"
     ]
    },
    {
     "name": "stdout",
     "output_type": "stream",
     "text": [
      "19 7 thresh 0.95 jacc 0.91613672496 best 0.95 0.91613672496\n"
     ]
    },
    {
     "name": "stdout",
     "output_type": "stream",
     "text": [
      "19 8 thresh 0.95 jacc 1.0 best 0.3 1.0\n"
     ]
    },
    {
     "name": "stdout",
     "output_type": "stream",
     "text": [
      "19 9 thresh 0.95 jacc 1.0 best 0.75 1.0\n"
     ]
    }
   ],
   "source": [
    "num_thresh = 20\n",
    "best_jacc = np.zeros(N_Cls)\n",
    "best_thresh = np.zeros(N_Cls)\n",
    "for ic in range(N_Cls):\n",
    "    for j in range(num_thresh):\n",
    "        thresh = float(j) / num_thresh\n",
    "        y_pred_thresh = y_pred[ic, :, :] > thresh\n",
    "        jacc = jaccard_tools.jaccard_similarity_score(y_true[:, :, ic], y_pred_thresh)\n",
    "        if jacc > best_jacc[ic]:\n",
    "            best_jacc[ic] = jacc\n",
    "            best_thresh[ic] = thresh\n",
    "    print(j, ic, 'thresh', thresh, 'jacc', jacc, 'best', best_thresh[ic], best_jacc[ic])"
   ]
  },
  {
   "cell_type": "code",
   "execution_count": 75,
   "metadata": {},
   "outputs": [
    {
     "data": {
      "text/plain": [
       "array([ 0.85413355,  0.99960254,  0.86049285,  0.03995379,  0.63062925,\n        0.02424483,  0.99085851,  0.91613672,  1.        ,  1.        ])"
      ]
     },
     "execution_count": 75,
     "metadata": {},
     "output_type": "execute_result"
    }
   ],
   "source": [
    "best_jacc"
   ]
  },
  {
   "cell_type": "code",
   "execution_count": 76,
   "metadata": {},
   "outputs": [
    {
     "data": {
      "text/plain": [
       "array([ 0.95,  0.95,  0.95,  0.1 ,  0.45,  0.95,  0.95,  0.95,  0.3 ,  0.75])"
      ]
     },
     "execution_count": 76,
     "metadata": {},
     "output_type": "execute_result"
    }
   ],
   "source": [
    "best_thresh"
   ]
  },
  {
   "cell_type": "code",
   "execution_count": 81,
   "metadata": {},
   "outputs": [
    {
     "name": "stdout",
     "output_type": "stream",
     "text": [
      "jacc_int mean\n"
     ]
    },
    {
     "name": "stdout",
     "output_type": "stream",
     "text": [
      "jacc 0.85413354531 my_jacc 0 jacc_int mean sum 1583 of true sum 0\n"
     ]
    },
    {
     "name": "stdout",
     "output_type": "stream",
     "text": [
      "jacc 0.99960254372 my_jacc 0 jacc_int mean sum 2 of true sum 0\n"
     ]
    },
    {
     "name": "stdout",
     "output_type": "stream",
     "text": [
      "jacc 0.860492845787 my_jacc 0 jacc_int mean sum 5111 of true sum 0\n"
     ]
    },
    {
     "name": "stdout",
     "output_type": "stream",
     "text": [
      "jacc 0.0399537940091 my_jacc 18592 jacc_int mean sum 268261 of true sum 135556\n"
     ]
    },
    {
     "name": "stdout",
     "output_type": "stream",
     "text": [
      "jacc 0.630629247531 my_jacc 686374 jacc_int mean sum 917950 of true sum 863596\n"
     ]
    },
    {
     "name": "stdout",
     "output_type": "stream",
     "text": [
      "jacc 0.0242448330684 my_jacc 0 jacc_int mean sum 291547 of true sum 0\n"
     ]
    },
    {
     "name": "stdout",
     "output_type": "stream",
     "text": [
      "jacc 0.990858505564 my_jacc 0 jacc_int mean sum 145 of true sum 0\n"
     ]
    },
    {
     "name": "stdout",
     "output_type": "stream",
     "text": [
      "jacc 0.91613672496 my_jacc 0 jacc_int mean sum 1460 of true sum 0\n"
     ]
    },
    {
     "name": "stdout",
     "output_type": "stream",
     "text": [
      "jacc 1.0 my_jacc 0 jacc_int mean sum 0 of true sum 0\n"
     ]
    },
    {
     "name": "stdout",
     "output_type": "stream",
     "text": [
      "jacc 1.0 my_jacc 0 jacc_int mean sum 0 of true sum 0\n"
     ]
    }
   ],
   "source": [
    "jacc_int = jaccard_tools.jaccard_coef_int(y_true, y_pred)\n",
    "print('jacc_int', jacc_int)\n",
    "for ic in range(N_Cls):\n",
    "    y_pred_thresh = y_pred[ic, :, :] > best_thresh[ic]\n",
    "    y_true_class = y_true[:, :, ic]\n",
    "    jacc = jaccard_tools.jaccard_similarity_score(y_true_class, y_pred_thresh)\n",
    "    my_jacc = np.sum(y_pred_thresh * y_true[:, :, ic])\n",
    "    print('jacc', jacc, 'my_jacc', my_jacc, 'jacc_int', jacc_int, 'sum', np.sum(y_pred_thresh), \n",
    "          'of true sum', np.sum(y_true_class))"
   ]
  },
  {
   "cell_type": "code",
   "execution_count": null,
   "metadata": {},
   "outputs": [],
   "source": [
    ""
   ]
  }
 ],
 "metadata": {
  "kernelspec": {
   "display_name": "Python 2",
   "language": "python",
   "name": "python2"
  },
  "language_info": {
   "codemirror_mode": {
    "name": "ipython",
    "version": 2.0
   },
   "file_extension": ".py",
   "mimetype": "text/x-python",
   "name": "python",
   "nbconvert_exporter": "python",
   "pygments_lexer": "ipython2",
   "version": "2.7.6"
  }
 },
 "nbformat": 4,
 "nbformat_minor": 0
}